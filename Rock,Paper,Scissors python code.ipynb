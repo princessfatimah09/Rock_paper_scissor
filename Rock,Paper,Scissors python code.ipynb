{
 "cells": [
  {
   "cell_type": "code",
   "execution_count": 1,
   "id": "a07b0e31",
   "metadata": {},
   "outputs": [],
   "source": [
    "import random \n"
   ]
  },
  {
   "cell_type": "code",
   "execution_count": 5,
   "id": "4861670b",
   "metadata": {},
   "outputs": [
    {
     "name": "stdout",
     "output_type": "stream",
     "text": [
      "input r,p, s for Rock, Paper , Scissorsr\n",
      "You chose r and computer chose s\n",
      " Rock smashes Scissors, You win\n",
      "Do you want to keep playing?:[Y/N]Y\n",
      "input r,p, s for Rock, Paper , Scissorsp\n",
      "You chose p and computer chose r\n",
      "Paper covers Rock, You win\n",
      "Do you want to keep playing?:[Y/N]Y\n",
      "input r,p, s for Rock, Paper , Scissorss\n",
      "You chose s and computer chose s\n",
      "Its a tie\n",
      "Do you want to keep playing?:[Y/N]Y\n",
      "input r,p, s for Rock, Paper , Scissorsr\n",
      "You chose r and computer chose s\n",
      " Rock smashes Scissors, You win\n",
      "Do you want to keep playing?:[Y/N]r\n",
      "input r,p, s for Rock, Paper , Scissorsr\n",
      "You chose r and computer chose r\n",
      "Its a tie\n",
      "Do you want to keep playing?:[Y/N]r\n",
      "input r,p, s for Rock, Paper , Scissorsr\n",
      "You chose r and computer chose r\n",
      "Its a tie\n",
      "Do you want to keep playing?:[Y/N]s\n",
      "input r,p, s for Rock, Paper , Scissorss\n",
      "You chose s and computer chose p\n",
      "Scissors cuts Paper, You wins\n",
      "Do you want to keep playing?:[Y/N]Y\n",
      "input r,p, s for Rock, Paper , Scissorss\n",
      "You chose s and computer chose r\n",
      "Rock smashes Scissors, computer wins\n",
      "Do you want to keep playing?:[Y/N]N\n"
     ]
    }
   ],
   "source": [
    "def rps():\n",
    "    keep_playing = True\n",
    "    while keep_playing is True:\n",
    "        user_input = input('input r,p, s for Rock, Paper , Scissors')\n",
    "        possible_outcome = ['r','p','s']\n",
    "        computer_input = random.choice(possible_outcome)\n",
    "        print(f'You chose {user_input} and computer chose {computer_input}')\n",
    "        if user_input== computer_input:\n",
    "            print('Its a tie')\n",
    "        elif user_input == 'r':\n",
    "            if computer_input== 's':\n",
    "                print(' Rock smashes Scissors, You win')\n",
    "            else:\n",
    "                print('Paper covers rock,computer wins')\n",
    "        elif user_input == 's':\n",
    "            if computer_input == 'p':\n",
    "                print('Scissors cuts Paper, You wins')\n",
    "            else:\n",
    "                print('Rock smashes Scissors, computer wins')\n",
    "        elif user_input == 'p':\n",
    "            if computer_input == 'r':\n",
    "                print('Paper covers Rock, You win')\n",
    "            else:\n",
    "                print('Scissors cut paper, computer wins')\n",
    "        choice = input('Do you want to keep playing?:[Y/N]')\n",
    "        if choice == 'Y':\n",
    "            keep_playing = True\n",
    "        elif choice == 'N':\n",
    "            keep_playing = False\n",
    "rps()"
   ]
  },
  {
   "cell_type": "code",
   "execution_count": null,
   "id": "291bd5f1",
   "metadata": {},
   "outputs": [],
   "source": []
  }
 ],
 "metadata": {
  "kernelspec": {
   "display_name": "Python 3",
   "language": "python",
   "name": "python3"
  },
  "language_info": {
   "codemirror_mode": {
    "name": "ipython",
    "version": 3
   },
   "file_extension": ".py",
   "mimetype": "text/x-python",
   "name": "python",
   "nbconvert_exporter": "python",
   "pygments_lexer": "ipython3",
   "version": "3.8.8"
  }
 },
 "nbformat": 4,
 "nbformat_minor": 5
}
